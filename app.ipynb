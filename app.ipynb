{
 "cells": [
  {
   "cell_type": "code",
   "execution_count": 2,
   "metadata": {},
   "outputs": [
    {
     "name": "stdout",
     "output_type": "stream",
     "text": [
      "Data Lenth: 53 Frame\n",
      "Average Data Len in Frame : 237\n"
     ]
    }
   ],
   "source": [
    "# Name: Data Import\n",
    "# Dependency: None\n",
    "\n",
    "import json\n",
    "import numpy as np\n",
    "import pandas as pd\n",
    "with open('./lidar_data/lidar_data_31.json') as json_file:\n",
    "    raw_data_lidar = json.load(json_file)\n",
    "\n",
    "LIDAR_DATA_TOTAL= []\n",
    "\n",
    "lidar_data = pd.DataFrame(raw_data_lidar)\n",
    "for item in lidar_data['data']:\n",
    "    temp = []\n",
    "    for data in item:\n",
    "        temp.append([data['angle'],data['distance']])\n",
    "    LIDAR_DATA_TOTAL.append(temp)\n",
    "    \n",
    "    \n",
    "print(f\"Data Lenth: {len(LIDAR_DATA_TOTAL)} Frame\")\n",
    "print(f\"Average Data Len in Frame : {int(np.mean([len(item) for item in LIDAR_DATA_TOTAL]))}\")"
   ]
  },
  {
   "cell_type": "code",
   "execution_count": 3,
   "metadata": {},
   "outputs": [],
   "source": []
  }
 ],
 "metadata": {
  "kernelspec": {
   "display_name": "Python 3",
   "language": "python",
   "name": "python3"
  },
  "language_info": {
   "codemirror_mode": {
    "name": "ipython",
    "version": 3
   },
   "file_extension": ".py",
   "mimetype": "text/x-python",
   "name": "python",
   "nbconvert_exporter": "python",
   "pygments_lexer": "ipython3",
   "version": "3.10.11"
  },
  "orig_nbformat": 4
 },
 "nbformat": 4,
 "nbformat_minor": 2
}
