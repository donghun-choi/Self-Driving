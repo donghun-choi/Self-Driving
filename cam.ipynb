{
 "cells": [
  {
   "cell_type": "code",
   "execution_count": 7,
   "metadata": {},
   "outputs": [],
   "source": [
    "import cv2\n",
    "import numpy\n",
    "import tensorflow \n",
    "#\n",
    "import matplotlib.pyplot as plt\n"
   ]
  },
  {
   "cell_type": "code",
   "execution_count": 8,
   "metadata": {},
   "outputs": [
    {
     "data": {
      "text/plain": [
       "(768, 768, 3)"
      ]
     },
     "execution_count": 8,
     "metadata": {},
     "output_type": "execute_result"
    }
   ],
   "source": [
    "import cv2\n",
    "import matplotlib.image as img\n",
    "import matplotlib.pyplot as plt\n",
    "# 이미지 로드\n",
    "\n",
    "image = cv2.imread('image.jpg')\n",
    "\n",
    "# 관심영역 지정\n",
    "\n",
    "\n",
    "resized_image = cv2.resize(image, (768, 768))\n",
    "\n",
    "blured_image = cv2.GaussianBlur(resized_image, (15, 15), 0)\n",
    "\n",
    "hsv_image = cv2.cvtColor(blured_image, cv2.COLOR_BGR2HSV)\n",
    "hsv_image = cv2.cvtColor(hsv_image, cv2.COLOR_BGR2RGB)\n",
    "\n",
    "grayscale_image = cv2.cvtColor(blured_image, cv2.COLOR_BGR2GRAY)\n",
    "grayscale_image = cv2.cvtColor(grayscale_image, cv2.COLOR_BGR2RGB)\n",
    "\n",
    "\n",
    "edge_img = cv2.Canny(blured_image, threshold1=64, threshold2=64)\n",
    "edge_img = cv2.cvtColor(edge_img, cv2.COLOR_BGR2RGB)\n",
    "# 이미지 정규화\n",
    "# normalized_image = resized_image / 255.0\n",
    "\n",
    "\n",
    "\n",
    "# edge_img = edge_img / 255.0\n",
    "normalized_img = numpy.array(edge_img.astype(numpy.float32) / 255.0)\n",
    "\n",
    "normalized_img.shape\n",
    "# 이미지 전처리된 결과 출력\n",
    "\n",
    "\n",
    "\n",
    "# 589,824 points\n"
   ]
  },
  {
   "cell_type": "code",
   "execution_count": null,
   "metadata": {},
   "outputs": [],
   "source": []
  }
 ],
 "metadata": {
  "kernelspec": {
   "display_name": "Python 3 (ipykernel)",
   "language": "python",
   "name": "python3"
  },
  "language_info": {
   "codemirror_mode": {
    "name": "ipython",
    "version": 3
   },
   "file_extension": ".py",
   "mimetype": "text/x-python",
   "name": "python",
   "nbconvert_exporter": "python",
   "pygments_lexer": "ipython3",
   "version": "3.10.11"
  }
 },
 "nbformat": 4,
 "nbformat_minor": 2
}
